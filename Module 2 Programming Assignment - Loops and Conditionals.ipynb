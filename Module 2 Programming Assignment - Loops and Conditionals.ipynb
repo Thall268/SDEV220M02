{
 "cells": [
  {
   "cell_type": "code",
   "id": "initial_id",
   "metadata": {
    "collapsed": true,
    "ExecuteTime": {
     "end_time": "2025-03-17T00:54:07.475876Z",
     "start_time": "2025-03-17T00:54:07.472973Z"
    }
   },
   "source": [
    "# 4.1 Number Guessing\n",
    "secret = 5 # Choose a Number 1 -10\n",
    "guess = 7 # Choose another number 1 - 10\n",
    "if guess < secret:\n",
    "    print (\"too low\")\n",
    "elif guess > secret:\n",
    "    print (\"too high\")\n",
    "else:\n",
    "    print (\"Just right\")"
   ],
   "outputs": [
    {
     "name": "stdout",
     "output_type": "stream",
     "text": [
      "too high\n"
     ]
    }
   ],
   "execution_count": 10
  },
  {
   "metadata": {},
   "cell_type": "markdown",
   "source": "",
   "id": "50d79320f9dba7b7"
  },
  {
   "metadata": {
    "ExecuteTime": {
     "end_time": "2025-03-17T00:31:24.739480Z",
     "start_time": "2025-03-17T00:31:24.736036Z"
    }
   },
   "cell_type": "code",
   "source": [
    "# 4.2 Object classification based on color and size\n",
    "small = True # assign true or false\n",
    "green = False # assign true or false\n",
    "\n",
    "if green or small:\n",
    "    print (\"pea\")\n",
    "else:\n",
    "    print (\"cherry\")\n",
    "\n",
    "if green:\n",
    "    print (\"watermelon\")\n",
    "else:\n",
    "    print (\"pumpkin\")\n"
   ],
   "id": "8cb3cde269c72fa0",
   "outputs": [
    {
     "name": "stdout",
     "output_type": "stream",
     "text": [
      "pea\n",
      "pumpkin\n"
     ]
    }
   ],
   "execution_count": 2
  },
  {
   "metadata": {
    "ExecuteTime": {
     "end_time": "2025-03-17T00:33:06.772209Z",
     "start_time": "2025-03-17T00:33:06.769215Z"
    }
   },
   "cell_type": "code",
   "source": [
    "# 6.1 print list value with for loop\n",
    "for value in [3,2,1,0]:\n",
    "    print (value)\n"
   ],
   "id": "df216099c41992e6",
   "outputs": [
    {
     "name": "stdout",
     "output_type": "stream",
     "text": [
      "3\n",
      "2\n",
      "1\n",
      "0\n"
     ]
    }
   ],
   "execution_count": 3
  },
  {
   "metadata": {
    "ExecuteTime": {
     "end_time": "2025-03-17T00:50:33.699427Z",
     "start_time": "2025-03-17T00:50:33.695472Z"
    }
   },
   "cell_type": "code",
   "source": [
    "# 6.2 while loop conditions\n",
    "guess_me = 7\n",
    "number = 1\n",
    "\n",
    "while number <= guess_me:\n",
    "    if number < guess_me:\n",
    "        print(\"too low\")\n",
    "    elif number == guess_me:\n",
    "        print(\"found it!\")\n",
    "        break\n",
    "    number += 1\n",
    "\n",
    "if number > guess_me:\n",
    "    print(\"oops\")\n"
   ],
   "id": "b36212bec3070b67",
   "outputs": [
    {
     "name": "stdout",
     "output_type": "stream",
     "text": [
      "too low\n",
      "too low\n",
      "too low\n",
      "too low\n",
      "too low\n",
      "too low\n",
      "found it!\n"
     ]
    }
   ],
   "execution_count": 8
  },
  {
   "metadata": {
    "ExecuteTime": {
     "end_time": "2025-03-17T00:53:21.514984Z",
     "start_time": "2025-03-17T00:53:21.511993Z"
    }
   },
   "cell_type": "code",
   "source": [
    "# 6.3\n",
    "guess_me = 5\n",
    "\n",
    "for number in range(10):\n",
    "    if number < guess_me:\n",
    "        print(\"too low\")\n",
    "    elif number == guess_me:\n",
    "        print(\"found it!\")\n",
    "        break\n",
    "    else:\n",
    "        print(\"oops\")\n",
    "        break\n"
   ],
   "id": "4706fadc62aabeca",
   "outputs": [
    {
     "name": "stdout",
     "output_type": "stream",
     "text": [
      "too low\n",
      "too low\n",
      "too low\n",
      "too low\n",
      "too low\n",
      "found it!\n"
     ]
    }
   ],
   "execution_count": 9
  }
 ],
 "metadata": {
  "kernelspec": {
   "display_name": "Python 3",
   "language": "python",
   "name": "python3"
  },
  "language_info": {
   "codemirror_mode": {
    "name": "ipython",
    "version": 2
   },
   "file_extension": ".py",
   "mimetype": "text/x-python",
   "name": "python",
   "nbconvert_exporter": "python",
   "pygments_lexer": "ipython2",
   "version": "2.7.6"
  }
 },
 "nbformat": 4,
 "nbformat_minor": 5
}
